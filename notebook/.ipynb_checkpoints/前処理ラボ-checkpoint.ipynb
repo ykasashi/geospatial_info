{
 "cells": [
  {
   "cell_type": "code",
   "execution_count": 13,
   "id": "1b673aec",
   "metadata": {},
   "outputs": [],
   "source": [
    "# Load in our libraries\n",
    "import pandas as pd\n",
    "import numpy as np\n",
    "from datetime import datetime\n",
    "import math\n",
    "# import re\n",
    "# import random as random\n",
    "# import xgboost as xgb\n",
    "\n",
    "# import warnings\n",
    "# warnings.filterwarnings('ignore')\n",
    "\n",
    "# # Going to use these 5 base models for the stacking\n",
    "from sklearn.ensemble import (RandomForestClassifier, AdaBoostClassifier, GradientBoostingClassifier, ExtraTreesClassifier)\n",
    "from sklearn.model_selection import KFold\n",
    "# from sklearn.metrics import f1_score\n",
    "\n",
    "# machine learning\n",
    "from sklearn.ensemble import RandomForestClassifier\n",
    "from sklearn.model_selection import train_test_split\n",
    "\n",
    "# 評価関数\n",
    "from sklearn.metrics import mean_absolute_error, mean_squared_error, r2_score"
   ]
  },
  {
   "cell_type": "code",
   "execution_count": 14,
   "id": "d53f2790",
   "metadata": {},
   "outputs": [],
   "source": [
    "# 2. 築年月の数値を整数に変換し、NaNの処理を加えたdatetime形式変換関数を定義\n",
    "def yyyymm_to_datetime(yyyymm_num):\n",
    "    if math.isnan(yyyymm_num):  # NaNをチェック\n",
    "        return None  # NaNの場合はNoneを返す\n",
    "    yyyymm_int = int(yyyymm_num)  # 小数点以下を削除して整数に変換\n",
    "    yyyymm_str = str(yyyymm_int)  # 整数を文字列に変換\n",
    "    return datetime.strptime(yyyymm_str, \"%Y%m\")  # 文字列をdatetimeに変換"
   ]
  },
  {
   "cell_type": "code",
   "execution_count": 4,
   "id": "0d262247",
   "metadata": {},
   "outputs": [
    {
     "name": "stderr",
     "output_type": "stream",
     "text": [
      "C:\\Users\\y.kasashima\\AppData\\Local\\Temp\\ipykernel_18864\\513695737.py:2: DtypeWarning: Columns (39,40,42,55,58) have mixed types. Specify dtype option on import or set low_memory=False.\n",
      "  train = pd.read_csv(\"./data/train.csv\")\n",
      "C:\\Users\\y.kasashima\\AppData\\Local\\Temp\\ipykernel_18864\\513695737.py:3: DtypeWarning: Columns (39,40,42,55,56,58,63) have mixed types. Specify dtype option on import or set low_memory=False.\n",
      "  test  = pd.read_csv(\"./data/test.csv\")\n"
     ]
    }
   ],
   "source": [
    "# 入力\n",
    "train = pd.read_csv(\"./data/train.csv\")\n",
    "test  = pd.read_csv(\"./data/test.csv\")\n",
    "full_data = [train, test]"
   ]
  },
  {
   "cell_type": "code",
   "execution_count": null,
   "id": "f2a33181",
   "metadata": {},
   "outputs": [],
   "source": [
    "# 2. snapshot_window_angleをワンホットエンコーディングに変換\n",
    "df_encoded = pd.get_dummies(train, columns=['building_structure'], prefix='bs')\n",
    "\n",
    "# 3. 結果を確認\n",
    "print(df_encoded)\n"
   ]
  },
  {
   "cell_type": "code",
   "execution_count": 5,
   "id": "ca458db5",
   "metadata": {},
   "outputs": [],
   "source": [
    "# 追加済み変数\n",
    "# ・unit_area : 専有面積\n",
    "# ・year_built_num : 築年月数(築年月から経過月数を算出)\n",
    "# ・room_count : 間取部屋数\n",
    "# ・madori_number_all : 間取部屋数(代表)\n",
    "# ・flg_new : 新築・未入居フラグ\n",
    "# ・walk_distance1 : 徒歩距離1\n",
    "cols = ['unit_area', 'year_built_num', 'room_count', 'madori_number_all', 'flg_new', 'walk_distance1']"
   ]
  },
  {
   "cell_type": "code",
   "execution_count": 15,
   "id": "9d1a7c10",
   "metadata": {},
   "outputs": [],
   "source": [
    "# 前処理\n",
    "# 築経過月数の算出\n",
    "current_date = datetime.now()\n",
    "train['year_built_dt'] = train['year_built'].apply(yyyymm_to_datetime)\n",
    "train['year_built_num'] = train['year_built_dt'].apply(lambda x: (current_date.year - x.year) * 12 + current_date.month - x.month)\n",
    "\n"
   ]
  },
  {
   "cell_type": "code",
   "execution_count": 17,
   "id": "41d81af7",
   "metadata": {},
   "outputs": [
    {
     "data": {
      "text/plain": [
       "0    5.0\n",
       "1    5.0\n",
       "2    3.0\n",
       "3    6.0\n",
       "4    6.0\n",
       "Name: dwelling_unit_window_angle, dtype: float64"
      ]
     },
     "execution_count": 17,
     "metadata": {},
     "output_type": "execute_result"
    }
   ],
   "source": [
    "train[\"dwelling_unit_window_angle\"].head()"
   ]
  },
  {
   "cell_type": "code",
   "execution_count": null,
   "id": "2d612c75",
   "metadata": {},
   "outputs": [],
   "source": []
  }
 ],
 "metadata": {
  "kernelspec": {
   "display_name": "Python 3 (ipykernel)",
   "language": "python",
   "name": "python3"
  },
  "language_info": {
   "codemirror_mode": {
    "name": "ipython",
    "version": 3
   },
   "file_extension": ".py",
   "mimetype": "text/x-python",
   "name": "python",
   "nbconvert_exporter": "python",
   "pygments_lexer": "ipython3",
   "version": "3.9.7"
  }
 },
 "nbformat": 4,
 "nbformat_minor": 5
}
