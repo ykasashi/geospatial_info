{
 "cells": [
  {
   "cell_type": "code",
   "execution_count": 2,
   "id": "64729998",
   "metadata": {},
   "outputs": [],
   "source": [
    "# Load in our libraries\n",
    "import pandas as pd\n",
    "import numpy as np\n",
    "from datetime import datetime\n",
    "import math\n",
    "# import re\n",
    "# import random as random\n",
    "# import xgboost as xgb\n",
    "\n",
    "# import warnings\n",
    "# warnings.filterwarnings('ignore')\n",
    "\n",
    "# # Going to use these 5 base models for the stacking\n",
    "from sklearn.ensemble import (RandomForestClassifier, AdaBoostClassifier, GradientBoostingClassifier, ExtraTreesClassifier)\n",
    "from sklearn.model_selection import KFold\n",
    "# from sklearn.metrics import f1_score\n",
    "\n",
    "# machine learning\n",
    "from sklearn.ensemble import RandomForestClassifier\n",
    "from sklearn.model_selection import train_test_split\n",
    "\n",
    "# 評価関数\n",
    "from sklearn.metrics import mean_absolute_error, mean_squared_error, r2_score"
   ]
  },
  {
   "cell_type": "code",
   "execution_count": 3,
   "id": "a9d2b745",
   "metadata": {},
   "outputs": [],
   "source": [
    "# 2. 築年月の数値を整数に変換し、NaNの処理を加えたdatetime形式変換関数を定義\n",
    "def yyyymm_to_datetime(yyyymm_num):\n",
    "    if math.isnan(yyyymm_num):  # NaNをチェック\n",
    "        return None  # NaNの場合はNoneを返す\n",
    "    yyyymm_int = int(yyyymm_num)  # 小数点以下を削除して整数に変換\n",
    "    yyyymm_str = str(yyyymm_int)  # 整数を文字列に変換\n",
    "    return datetime.strptime(yyyymm_str, \"%Y%m\")  # 文字列をdatetimeに変換"
   ]
  },
  {
   "cell_type": "code",
   "execution_count": 5,
   "id": "1411e7c9",
   "metadata": {},
   "outputs": [
    {
     "name": "stderr",
     "output_type": "stream",
     "text": [
      "C:\\Users\\y.kasashima\\AppData\\Local\\Temp\\ipykernel_17988\\3583938641.py:2: DtypeWarning: Columns (39,40,42,55,58) have mixed types. Specify dtype option on import or set low_memory=False.\n",
      "  train = pd.read_csv(\"../data/raw/train.csv\")\n",
      "C:\\Users\\y.kasashima\\AppData\\Local\\Temp\\ipykernel_17988\\3583938641.py:3: DtypeWarning: Columns (39,40,42,55,56,58,63) have mixed types. Specify dtype option on import or set low_memory=False.\n",
      "  test  = pd.read_csv(\"../data/raw/test.csv\")\n"
     ]
    }
   ],
   "source": [
    "# 入力\n",
    "train = pd.read_csv(\"../data/raw/train.csv\")\n",
    "test  = pd.read_csv(\"../data/raw/test.csv\")\n",
    "full_data = [train, test]"
   ]
  },
  {
   "cell_type": "code",
   "execution_count": 20,
   "id": "94d87684",
   "metadata": {},
   "outputs": [
    {
     "name": "stdout",
     "output_type": "stream",
     "text": [
      "        target_ym  money_room building_id  building_status  \\\n",
      "0          202007       38000     a000002                1   \n",
      "1          202107      103000     a000004                1   \n",
      "2          202101       50000     a000005                1   \n",
      "3          202007       37000     a000008                1   \n",
      "4          202101       33000     a000008                1   \n",
      "...           ...         ...         ...              ...   \n",
      "584502     202001       64000     a545390                1   \n",
      "584503     202107       59000     a545392                1   \n",
      "584504     202001       94000     a545393                1   \n",
      "584505     201907       42000     a545394                1   \n",
      "584506     202101       42000     a545394                1   \n",
      "\n",
      "       building_create_date building_modify_date  building_type building_name  \\\n",
      "0       2014-06-27 21:18:41  2024-05-25 00:45:07              3   Plaisirりんくう   \n",
      "1       2017-02-05 20:43:26  2024-08-17 12:12:51              1      向原パークハイツ   \n",
      "2       2014-06-27 20:32:50  2023-09-17 23:53:57              3       エナージ美香保   \n",
      "3       2014-06-27 23:06:27  2024-03-08 00:10:05              3       エルディム希望   \n",
      "4       2014-06-27 23:06:27  2024-03-08 00:10:05              3       エルディム希望   \n",
      "...                     ...                  ...            ...           ...   \n",
      "584502  2016-02-21 05:33:37  2024-07-22 00:45:09              3    カーサディオランジュ   \n",
      "584503  2016-06-23 00:11:48  2021-11-13 00:10:05              3      ライトサファイヤ   \n",
      "584504  2014-06-28 00:47:49  2024-08-15 02:09:08              1         AKテラス   \n",
      "584505  2014-06-27 23:41:43  2023-08-09 01:33:37              3     ハイツアプリコット   \n",
      "584506  2014-06-27 23:41:43  2023-08-09 01:33:37              3     ハイツアプリコット   \n",
      "\n",
      "        building_name_ruby homes_building_name  ... ｂｓ_3.0  ｂｓ_4.0 ｂｓ_5.0  \\\n",
      "0                      NaN          プレジール りんくう  ...      0       0      0   \n",
      "1                      NaN            向原パークハイツ  ...      0       1      0   \n",
      "2                      NaN             エナージ美香保  ...      0       0      0   \n",
      "3                      NaN             エルディム希望  ...      1       0      0   \n",
      "4                      NaN             エルディム希望  ...      1       0      0   \n",
      "...                    ...                 ...  ...    ...     ...    ...   \n",
      "584502                 NaN      Casa di Orange  ...      1       0      0   \n",
      "584503                 NaN            ライトサファイア  ...      0       0      0   \n",
      "584504                 NaN               AKテラス  ...      0       1      0   \n",
      "584505                 NaN           ハイツアプリコット  ...      0       0      0   \n",
      "584506                 NaN           ハイツアプリコット  ...      0       0      0   \n",
      "\n",
      "        ｂｓ_6.0  ｂｓ_7.0  ｂｓ_9.0  ｂｓ_10.0  ｂｓ_11.0  ｂｓ_12.0  ｂｓ_13.0  \n",
      "0            0       0       0        0        0        0        0  \n",
      "1            0       0       0        0        0        0        0  \n",
      "2            0       0       0        0        0        0        0  \n",
      "3            0       0       0        0        0        0        0  \n",
      "4            0       0       0        0        0        0        0  \n",
      "...        ...     ...     ...      ...      ...      ...      ...  \n",
      "584502       0       0       0        0        0        0        0  \n",
      "584503       0       0       0        0        0        0        0  \n",
      "584504       0       0       0        0        0        0        0  \n",
      "584505       0       0       0        0        0        0        0  \n",
      "584506       0       0       0        0        0        0        0  \n",
      "\n",
      "[584507 rows x 165 columns]\n"
     ]
    }
   ],
   "source": [
    "# 2. snapshot_window_angleをワンホットエンコーディングに変換\n",
    "df_encoded = pd.get_dummies(train, columns=['building_structure'], prefix='bs')\n",
    "\n",
    "# 3. 結果を確認\n",
    "print(df_encoded)\n"
   ]
  },
  {
   "cell_type": "code",
   "execution_count": 5,
   "id": "1a28a349",
   "metadata": {},
   "outputs": [],
   "source": [
    "# 追加済み変数\n",
    "# ・unit_area : 専有面積\n",
    "# ・year_built_num : 築年月数(築年月から経過月数を算出)\n",
    "# ・room_count : 間取部屋数\n",
    "# ・madori_number_all : 間取部屋数(代表)\n",
    "# ・flg_new : 新築・未入居フラグ\n",
    "# ・walk_distance1 : 徒歩距離1\n",
    "cols = ['unit_area', 'year_built_num', 'room_count', 'madori_number_all', 'flg_new', 'walk_distance1']"
   ]
  },
  {
   "cell_type": "code",
   "execution_count": 15,
   "id": "e98e2842",
   "metadata": {},
   "outputs": [],
   "source": [
    "# 前処理\n",
    "# 築経過月数の算出\n",
    "current_date = datetime.now()\n",
    "train['year_built_dt'] = train['year_built'].apply(yyyymm_to_datetime)\n",
    "train['year_built_num'] = train['year_built_dt'].apply(lambda x: (current_date.year - x.year) * 12 + current_date.month - x.month)\n",
    "\n"
   ]
  },
  {
   "cell_type": "code",
   "execution_count": 17,
   "id": "68a675f2",
   "metadata": {},
   "outputs": [
    {
     "data": {
      "text/plain": [
       "0    5.0\n",
       "1    5.0\n",
       "2    3.0\n",
       "3    6.0\n",
       "4    6.0\n",
       "Name: dwelling_unit_window_angle, dtype: float64"
      ]
     },
     "execution_count": 17,
     "metadata": {},
     "output_type": "execute_result"
    }
   ],
   "source": [
    "train[\"dwelling_unit_window_angle\"].head()"
   ]
  },
  {
   "cell_type": "code",
   "execution_count": 7,
   "id": "5a2c040c",
   "metadata": {},
   "outputs": [
    {
     "name": "stdout",
     "output_type": "stream",
     "text": [
      "With target column excluded:\n",
      "   size  rooms  age  size_x_rooms  size_x_age  rooms_x_age  money_room\n",
      "0    30      2   10            60         300           20         500\n",
      "1    45      3   20           135         900           60         700\n",
      "2    60      4   30           240        1800          120        1000\n"
     ]
    }
   ],
   "source": [
    "import pandas as pd\n",
    "from itertools import combinations\n",
    "\n",
    "def create_interaction_features(df, target_column=None, columns=None):\n",
    "    \"\"\"\n",
    "    特定のカラムを除外して相互作用カラムを作成し、最後に除外したカラムを戻す関数。\n",
    "    target_columnが指定されない場合、そのカラムの処理はスキップされる。\n",
    "    \n",
    "    パラメータ:\n",
    "    df: pandas DataFrame\n",
    "        元のデータフレーム\n",
    "    target_column: str, optional\n",
    "        除外する目的変数の列名（例: 'money_room'）。デフォルトはNone。\n",
    "    columns: list, optional\n",
    "        掛け合わせたい列のリスト。デフォルトはNoneで、数値データ型の列が自動的に選択される。\n",
    "    \n",
    "    戻り値:\n",
    "    pandas DataFrame: 元のデータフレームに新しい相互作用カラムを追加したもの\n",
    "    \"\"\"\n",
    "    \n",
    "    # 目的変数が指定されていれば一時的に除外\n",
    "    if target_column is not None and target_column in df.columns:\n",
    "        target_data = df[target_column]\n",
    "        df = df.drop(columns=[target_column])\n",
    "    else:\n",
    "        target_data = None\n",
    "    \n",
    "    # 掛け合わせる列が指定されていない場合、数値データの列を自動選択\n",
    "    if columns is None:\n",
    "        columns = df.select_dtypes(include='number').columns\n",
    "    \n",
    "    # 2つずつの組み合わせを作成\n",
    "    for col1, col2 in combinations(columns, 2):\n",
    "        new_col_name = f\"{col1}_x_{col2}\"\n",
    "        df[new_col_name] = df[col1] * df[col2]\n",
    "    \n",
    "    # 除外した目的変数がある場合は元に戻す\n",
    "    if target_data is not None:\n",
    "        df[target_column] = target_data\n",
    "    \n",
    "    return df\n",
    "\n",
    "# 例としてのデータフレーム\n",
    "data = {\n",
    "    'money_room': [500, 700, 1000],\n",
    "    'size': [30, 45, 60],\n",
    "    'rooms': [2, 3, 4],\n",
    "    'age': [10, 20, 30]\n",
    "}\n",
    "\n",
    "df = pd.DataFrame(data)\n",
    "\n",
    "# 'money_room'を除外して相互作用カラムを作成\n",
    "# 引数として target_column を指定する場合\n",
    "df_with_interactions = create_interaction_features(df, target_column='money_room')\n",
    "print(\"With target column excluded:\")\n",
    "print(df_with_interactions)\n",
    "\n",
    "# # 引数として target_column を指定しない場合\n",
    "# df_with_interactions_no_target = create_interaction_features(df)\n",
    "# print(\"\\nWithout target column exclusion:\")\n",
    "# print(df_with_interactions_no_target)\n"
   ]
  },
  {
   "cell_type": "code",
   "execution_count": null,
   "id": "1ab0ffb2",
   "metadata": {},
   "outputs": [],
   "source": []
  }
 ],
 "metadata": {
  "kernelspec": {
   "display_name": "Python 3 (ipykernel)",
   "language": "python",
   "name": "python3"
  },
  "language_info": {
   "codemirror_mode": {
    "name": "ipython",
    "version": 3
   },
   "file_extension": ".py",
   "mimetype": "text/x-python",
   "name": "python",
   "nbconvert_exporter": "python",
   "pygments_lexer": "ipython3",
   "version": "3.9.7"
  }
 },
 "nbformat": 4,
 "nbformat_minor": 5
}
