{
 "cells": [
  {
   "cell_type": "code",
   "execution_count": 12,
   "id": "64729998",
   "metadata": {},
   "outputs": [
    {
     "ename": "ModuleNotFoundError",
     "evalue": "No module named 'seaborn'",
     "output_type": "error",
     "traceback": [
      "\u001b[1;31m---------------------------------------------------------------------------\u001b[0m",
      "\u001b[1;31mModuleNotFoundError\u001b[0m                       Traceback (most recent call last)",
      "Cell \u001b[1;32mIn[12], line 10\u001b[0m\n\u001b[0;32m      5\u001b[0m \u001b[38;5;28;01mimport\u001b[39;00m \u001b[38;5;21;01mmath\u001b[39;00m\n\u001b[0;32m      6\u001b[0m \u001b[38;5;66;03m# import re\u001b[39;00m\n\u001b[0;32m      7\u001b[0m \u001b[38;5;66;03m# import random as random\u001b[39;00m\n\u001b[0;32m      8\u001b[0m \u001b[38;5;66;03m# import xgboost as xgb\u001b[39;00m\n\u001b[1;32m---> 10\u001b[0m \u001b[38;5;28;01mimport\u001b[39;00m \u001b[38;5;21;01mseaborn\u001b[39;00m \u001b[38;5;28;01mas\u001b[39;00m \u001b[38;5;21;01msns\u001b[39;00m\n\u001b[0;32m     12\u001b[0m \u001b[38;5;66;03m# import warnings\u001b[39;00m\n\u001b[0;32m     13\u001b[0m \u001b[38;5;66;03m# warnings.filterwarnings('ignore')\u001b[39;00m\n\u001b[0;32m     14\u001b[0m \n\u001b[0;32m     15\u001b[0m \u001b[38;5;66;03m# # Going to use these 5 base models for the stacking\u001b[39;00m\n\u001b[0;32m     16\u001b[0m \u001b[38;5;28;01mfrom\u001b[39;00m \u001b[38;5;21;01msklearn\u001b[39;00m\u001b[38;5;21;01m.\u001b[39;00m\u001b[38;5;21;01mensemble\u001b[39;00m \u001b[38;5;28;01mimport\u001b[39;00m (RandomForestClassifier, AdaBoostClassifier, GradientBoostingClassifier, ExtraTreesClassifier)\n",
      "\u001b[1;31mModuleNotFoundError\u001b[0m: No module named 'seaborn'"
     ]
    }
   ],
   "source": [
    "# Load in our libraries\n",
    "import pandas as pd\n",
    "import numpy as np\n",
    "from datetime import datetime\n",
    "import math\n",
    "# import re\n",
    "# import random as random\n",
    "# import xgboost as xgb\n",
    "\n",
    "import seaborn as sns\n",
    "\n",
    "# import warnings\n",
    "# warnings.filterwarnings('ignore')\n",
    "\n",
    "# # Going to use these 5 base models for the stacking\n",
    "from sklearn.ensemble import (RandomForestClassifier, AdaBoostClassifier, GradientBoostingClassifier, ExtraTreesClassifier)\n",
    "from sklearn.model_selection import KFold\n",
    "# from sklearn.metrics import f1_score\n",
    "\n",
    "# machine learning\n",
    "from sklearn.ensemble import RandomForestClassifier\n",
    "from sklearn.model_selection import train_test_split\n",
    "\n",
    "# 評価関数\n",
    "from sklearn.metrics import mean_absolute_error, mean_squared_error, r2_score"
   ]
  },
  {
   "cell_type": "code",
   "execution_count": 9,
   "id": "99b0d3dc",
   "metadata": {},
   "outputs": [
    {
     "name": "stdout",
     "output_type": "stream",
     "text": [
      "Requirement already satisfied: seaborn in c:\\users\\y.kasashima\\appdata\\local\\programs\\python\\python312\\lib\\site-packages (0.13.2)\n",
      "Requirement already satisfied: numpy!=1.24.0,>=1.20 in c:\\users\\y.kasashima\\appdata\\local\\programs\\python\\python312\\lib\\site-packages (from seaborn) (1.26.4)\n",
      "Requirement already satisfied: pandas>=1.2 in c:\\users\\y.kasashima\\appdata\\local\\programs\\python\\python312\\lib\\site-packages (from seaborn) (2.2.1)\n",
      "Requirement already satisfied: matplotlib!=3.6.1,>=3.4 in c:\\users\\y.kasashima\\appdata\\local\\programs\\python\\python312\\lib\\site-packages (from seaborn) (3.8.3)\n",
      "Requirement already satisfied: contourpy>=1.0.1 in c:\\users\\y.kasashima\\appdata\\local\\programs\\python\\python312\\lib\\site-packages (from matplotlib!=3.6.1,>=3.4->seaborn) (1.2.0)\n",
      "Requirement already satisfied: cycler>=0.10 in c:\\users\\y.kasashima\\appdata\\local\\programs\\python\\python312\\lib\\site-packages (from matplotlib!=3.6.1,>=3.4->seaborn) (0.12.1)\n",
      "Requirement already satisfied: fonttools>=4.22.0 in c:\\users\\y.kasashima\\appdata\\local\\programs\\python\\python312\\lib\\site-packages (from matplotlib!=3.6.1,>=3.4->seaborn) (4.49.0)\n",
      "Requirement already satisfied: kiwisolver>=1.3.1 in c:\\users\\y.kasashima\\appdata\\local\\programs\\python\\python312\\lib\\site-packages (from matplotlib!=3.6.1,>=3.4->seaborn) (1.4.5)\n",
      "Requirement already satisfied: packaging>=20.0 in c:\\users\\y.kasashima\\appdata\\roaming\\python\\python312\\site-packages (from matplotlib!=3.6.1,>=3.4->seaborn) (24.0)\n",
      "Requirement already satisfied: pillow>=8 in c:\\users\\y.kasashima\\appdata\\local\\programs\\python\\python312\\lib\\site-packages (from matplotlib!=3.6.1,>=3.4->seaborn) (10.2.0)\n",
      "Requirement already satisfied: pyparsing>=2.3.1 in c:\\users\\y.kasashima\\appdata\\local\\programs\\python\\python312\\lib\\site-packages (from matplotlib!=3.6.1,>=3.4->seaborn) (3.1.2)\n",
      "Requirement already satisfied: python-dateutil>=2.7 in c:\\users\\y.kasashima\\appdata\\local\\programs\\python\\python312\\lib\\site-packages (from matplotlib!=3.6.1,>=3.4->seaborn) (2.9.0.post0)\n",
      "Requirement already satisfied: pytz>=2020.1 in c:\\users\\y.kasashima\\appdata\\local\\programs\\python\\python312\\lib\\site-packages (from pandas>=1.2->seaborn) (2024.1)\n",
      "Requirement already satisfied: tzdata>=2022.7 in c:\\users\\y.kasashima\\appdata\\local\\programs\\python\\python312\\lib\\site-packages (from pandas>=1.2->seaborn) (2024.1)\n",
      "Requirement already satisfied: six>=1.5 in c:\\users\\y.kasashima\\appdata\\local\\programs\\python\\python312\\lib\\site-packages (from python-dateutil>=2.7->matplotlib!=3.6.1,>=3.4->seaborn) (1.16.0)\n"
     ]
    }
   ],
   "source": [
    "!pip install seaborn"
   ]
  },
  {
   "cell_type": "code",
   "execution_count": null,
   "id": "a9d2b745",
   "metadata": {},
   "outputs": [],
   "source": [
    "# 2. 築年月の数値を整数に変換し、NaNの処理を加えたdatetime形式変換関数を定義\n",
    "def yyyymm_to_datetime(yyyymm_num):\n",
    "    if math.isnan(yyyymm_num):  # NaNをチェック\n",
    "        return None  # NaNの場合はNoneを返す\n",
    "    yyyymm_int = int(yyyymm_num)  # 小数点以下を削除して整数に変換\n",
    "    yyyymm_str = str(yyyymm_int)  # 整数を文字列に変換\n",
    "    return datetime.strptime(yyyymm_str, \"%Y%m\")  # 文字列をdatetimeに変換"
   ]
  },
  {
   "cell_type": "code",
   "execution_count": 4,
   "id": "1411e7c9",
   "metadata": {},
   "outputs": [
    {
     "name": "stderr",
     "output_type": "stream",
     "text": [
      "C:\\Users\\y.kasashima\\AppData\\Local\\Temp\\ipykernel_10076\\84277549.py:3: DtypeWarning: Columns (39,40,42,55,58) have mixed types. Specify dtype option on import or set low_memory=False.\n",
      "  train = pd.read_csv(PATH + \"train.csv\")\n",
      "C:\\Users\\y.kasashima\\AppData\\Local\\Temp\\ipykernel_10076\\84277549.py:4: DtypeWarning: Columns (39,40,42,55,56,58,63) have mixed types. Specify dtype option on import or set low_memory=False.\n",
      "  test  = pd.read_csv(PATH + \"test.csv\")\n"
     ]
    }
   ],
   "source": [
    "# 入力\n",
    "PATH = 'C:/Users/y.kasashima/Desktop/signate/20241016/'\n",
    "train = pd.read_csv(PATH + \"train.csv\")\n",
    "test  = pd.read_csv(PATH + \"test.csv\")\n",
    "full_data = [train, test]"
   ]
  },
  {
   "cell_type": "code",
   "execution_count": 5,
   "id": "94d87684",
   "metadata": {},
   "outputs": [],
   "source": [
    "# 築経過月数の算出\n",
    "current_date = datetime.now()\n",
    "train['year_built_dt'] = train['year_built'].apply(yyyymm_to_datetime)\n",
    "test['year_built_dt'] = test['year_built'].apply(yyyymm_to_datetime)\n",
    "train['year_built_num'] = train['year_built_dt'].apply(lambda x: (current_date.year - x.year) * 12 + current_date.month - x.month)\n",
    "test['year_built_num'] = test['year_built_dt'].apply(lambda x: (current_date.year - x.year) * 12 + current_date.month - x.month)\n",
    "\n",
    "# 方角をワンホットエンコーディングで8変数追加\n",
    "train = pd.get_dummies(train, columns=['snapshot_window_angle'], prefix='angle')\n",
    "test = pd.get_dummies(test, columns=['snapshot_window_angle'], prefix='angle')\n",
    "\n",
    "# 2. snapshot_window_angleをワンホットエンコーディングに変換\n",
    "df_encoded = pd.get_dummies(train, columns=['building_structure'], prefix='bs')"
   ]
  },
  {
   "cell_type": "code",
   "execution_count": 6,
   "id": "1a28a349",
   "metadata": {},
   "outputs": [],
   "source": [
    "# 追加済み変数\n",
    "# ・unit_area : 専有面積\n",
    "# ・year_built_num : 築年月数(築年月から経過月数を算出)\n",
    "# ・room_count : 間取部屋数\n",
    "# ・madori_number_all : 間取部屋数(代表)\n",
    "# ・flg_new : 新築・未入居フラグ\n",
    "# ・walk_distance1 : 徒歩距離1\n",
    "# ・money_kyoueki : 共益費/管理費(代表)\n",
    "# ・angle_4.0~angle_6.0 : 8方角を8種類の列として表現し、南東、南、南西の3種類\n",
    "# ・convenience_distance : コンビニからの距離\n",
    "# ・super_distance : スーパーからの距離\n",
    "# ・hospital_distance : 総合病院からの距離\n",
    "# ・room_kaisuu : 部屋階数\n",
    "# ・building_structure : 建物構造\n",
    "# ・land_chisei : 地勢\n",
    "# ・money_rimawari_now : 現行利回り\n",
    "cols = ['unit_area', 'year_built_num', 'room_count', 'madori_number_all', 'flg_new', 'walk_distance1', 'money_kyoueki', 'angle_4.0','angle_5.0', 'angle_6.0', 'convenience_distance', 'super_distance', 'hospital_distance', 'room_kaisuu', 'bs_1.0', 'bs_2.0', 'bs_3.0', 'land_chisei', 'money_rimawari_now', 'money_room']\n"
   ]
  },
  {
   "cell_type": "code",
   "execution_count": null,
   "id": "e98e2842",
   "metadata": {},
   "outputs": [],
   "source": [
    " \n",
    "plt.figure(figsize=(2, 2)) # プロットサイズを設定\n",
    "sns.pairplot(np.log(df_pickup), size=2.0) # df_pickupの変数の全ての組み合わせについて散布図を出力"
   ]
  },
  {
   "cell_type": "code",
   "execution_count": 17,
   "id": "68a675f2",
   "metadata": {},
   "outputs": [
    {
     "data": {
      "text/plain": [
       "0    5.0\n",
       "1    5.0\n",
       "2    3.0\n",
       "3    6.0\n",
       "4    6.0\n",
       "Name: dwelling_unit_window_angle, dtype: float64"
      ]
     },
     "execution_count": 17,
     "metadata": {},
     "output_type": "execute_result"
    }
   ],
   "source": [
    "train[\"dwelling_unit_window_angle\"].head()"
   ]
  },
  {
   "cell_type": "code",
   "execution_count": 7,
   "id": "5a2c040c",
   "metadata": {},
   "outputs": [
    {
     "name": "stdout",
     "output_type": "stream",
     "text": [
      "With target column excluded:\n",
      "   size  rooms  age  size_x_rooms  size_x_age  rooms_x_age  money_room\n",
      "0    30      2   10            60         300           20         500\n",
      "1    45      3   20           135         900           60         700\n",
      "2    60      4   30           240        1800          120        1000\n"
     ]
    }
   ],
   "source": [
    "import pandas as pd\n",
    "from itertools import combinations\n",
    "\n",
    "def create_interaction_features(df, target_column=None, columns=None):\n",
    "    \"\"\"\n",
    "    特定のカラムを除外して相互作用カラムを作成し、最後に除外したカラムを戻す関数。\n",
    "    target_columnが指定されない場合、そのカラムの処理はスキップされる。\n",
    "    \n",
    "    パラメータ:\n",
    "    df: pandas DataFrame\n",
    "        元のデータフレーム\n",
    "    target_column: str, optional\n",
    "        除外する目的変数の列名（例: 'money_room'）。デフォルトはNone。\n",
    "    columns: list, optional\n",
    "        掛け合わせたい列のリスト。デフォルトはNoneで、数値データ型の列が自動的に選択される。\n",
    "    \n",
    "    戻り値:\n",
    "    pandas DataFrame: 元のデータフレームに新しい相互作用カラムを追加したもの\n",
    "    \"\"\"\n",
    "    \n",
    "    # 目的変数が指定されていれば一時的に除外\n",
    "    if target_column is not None and target_column in df.columns:\n",
    "        target_data = df[target_column]\n",
    "        df = df.drop(columns=[target_column])\n",
    "    else:\n",
    "        target_data = None\n",
    "    \n",
    "    # 掛け合わせる列が指定されていない場合、数値データの列を自動選択\n",
    "    if columns is None:\n",
    "        columns = df.select_dtypes(include='number').columns\n",
    "    \n",
    "    # 2つずつの組み合わせを作成\n",
    "    for col1, col2 in combinations(columns, 2):\n",
    "        new_col_name = f\"{col1}_x_{col2}\"\n",
    "        df[new_col_name] = df[col1] * df[col2]\n",
    "    \n",
    "    # 除外した目的変数がある場合は元に戻す\n",
    "    if target_data is not None:\n",
    "        df[target_column] = target_data\n",
    "    \n",
    "    return df\n",
    "\n",
    "# 例としてのデータフレーム\n",
    "data = {\n",
    "    'money_room': [500, 700, 1000],\n",
    "    'size': [30, 45, 60],\n",
    "    'rooms': [2, 3, 4],\n",
    "    'age': [10, 20, 30]\n",
    "}\n",
    "\n",
    "df = pd.DataFrame(data)\n",
    "\n",
    "# 'money_room'を除外して相互作用カラムを作成\n",
    "# 引数として target_column を指定する場合\n",
    "df_with_interactions = create_interaction_features(df, target_column='money_room')\n",
    "print(\"With target column excluded:\")\n",
    "print(df_with_interactions)\n",
    "\n",
    "# # 引数として target_column を指定しない場合\n",
    "# df_with_interactions_no_target = create_interaction_features(df)\n",
    "# print(\"\\nWithout target column exclusion:\")\n",
    "# print(df_with_interactions_no_target)\n"
   ]
  },
  {
   "cell_type": "code",
   "execution_count": null,
   "id": "1ab0ffb2",
   "metadata": {},
   "outputs": [],
   "source": []
  }
 ],
 "metadata": {
  "kernelspec": {
   "display_name": "Python 3",
   "language": "python",
   "name": "python3"
  },
  "language_info": {
   "codemirror_mode": {
    "name": "ipython",
    "version": 3
   },
   "file_extension": ".py",
   "mimetype": "text/x-python",
   "name": "python",
   "nbconvert_exporter": "python",
   "pygments_lexer": "ipython3",
   "version": "3.10.4"
  }
 },
 "nbformat": 4,
 "nbformat_minor": 5
}
